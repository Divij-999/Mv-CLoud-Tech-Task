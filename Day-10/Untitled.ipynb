{
 "cells": [
  {
   "cell_type": "code",
   "execution_count": 53,
   "id": "9a7d541b-d534-4d7a-a5c7-46e167e2aaab",
   "metadata": {},
   "outputs": [
    {
     "name": "stdout",
     "output_type": "stream",
     "text": [
      "    * \n",
      "   * * \n",
      "  *   * \n",
      " *     * \n",
      "* * * * * \n"
     ]
    }
   ],
   "source": [
    "x = 5\n",
    "\n",
    "for i in range(1,x+1) :\n",
    "\n",
    "    for k in range((x-i+1),1,-1) :\n",
    "        print(\" \",end=\"\")\n",
    "    for j in range(1,i+1) :\n",
    "        if(i==1 or j == 1 or j == i ) :\n",
    "            print('* ',end=\"\")\n",
    "        elif(i==x) :\n",
    "            print('* ',end=\"\")\n",
    "        else :\n",
    "            print(\"  \",end=\"\")\n",
    "    print()"
   ]
  },
  {
   "cell_type": "code",
   "execution_count": null,
   "id": "96c538fa-09e2-43b3-8d89-4ee2f5470a32",
   "metadata": {},
   "outputs": [],
   "source": []
  },
  {
   "cell_type": "code",
   "execution_count": null,
   "id": "a755e974-0d9b-46d5-a8ff-4b0afc786dc8",
   "metadata": {},
   "outputs": [],
   "source": []
  }
 ],
 "metadata": {
  "kernelspec": {
   "display_name": "Python 3 (ipykernel)",
   "language": "python",
   "name": "python3"
  },
  "language_info": {
   "codemirror_mode": {
    "name": "ipython",
    "version": 3
   },
   "file_extension": ".py",
   "mimetype": "text/x-python",
   "name": "python",
   "nbconvert_exporter": "python",
   "pygments_lexer": "ipython3",
   "version": "3.12.4"
  }
 },
 "nbformat": 4,
 "nbformat_minor": 5
}
